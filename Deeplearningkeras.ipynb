{
 "cells": [
  {
   "cell_type": "code",
   "execution_count": null,
   "metadata": {
    "colab": {},
    "colab_type": "code",
    "id": "jcpK31fbfPZk"
   },
   "outputs": [],
   "source": [
    "#read input\n",
    "f=open('/content/drive/My Drive/Colab Notebooks/dataset/sentiment.txt','r')\n",
    "lines=f.readlines()\n",
    "f.close()\n",
    "print (len(lines))\n"
   ]
  },
  {
   "cell_type": "code",
   "execution_count": null,
   "metadata": {
    "colab": {},
    "colab_type": "code",
    "id": "DW8DT4e8fpb0"
   },
   "outputs": [],
   "source": [
    "import re\n",
    "import numpy as np\n",
    "\n",
    "stopwords = [\"a\", \"about\", \"above\", \"above\", \"across\", \"after\", \"afterwards\", \"again\", \"against\", \"all\", \"almost\", \"alone\", \"along\", \"already\", \"also\",\"although\",\"always\",\"am\",\"among\", \"amongst\", \"amoungst\", \"amount\",  \"an\", \"and\", \"another\", \"any\",\"anyhow\",\"anyone\",\"anything\",\"anyway\", \"anywhere\", \"are\", \"around\", \"as\",  \"at\", \"back\",\"be\",\"became\", \"because\",\"become\",\"becomes\", \"becoming\", \"been\", \"before\", \"beforehand\", \"behind\", \"being\", \"below\", \"beside\", \"besides\", \"between\", \"beyond\", \"bill\", \"both\", \"bottom\",\"but\", \"by\", \"call\", \"can\", \"cannot\", \"cant\", \"co\", \"con\", \"could\", \"couldnt\", \"cry\", \"de\", \"describe\", \"detail\", \"do\", \"done\", \"down\", \"due\", \"during\", \"each\", \"eg\", \"eight\", \"either\", \"eleven\",\"else\", \"elsewhere\", \"empty\", \"enough\", \"etc\", \"even\", \"ever\", \"every\", \"everyone\", \"everything\", \"everywhere\", \"except\", \"few\", \"fifteen\", \"fify\", \"fill\", \"find\", \"fire\", \"first\", \"five\", \"for\", \"former\", \"formerly\", \"forty\", \"found\", \"four\", \"from\", \"front\", \"full\", \"further\", \"get\", \"give\", \"go\", \"had\", \"has\", \"hasnt\", \"have\", \"he\", \"hence\", \"her\", \"here\", \"hereafter\", \"hereby\", \"herein\", \"hereupon\", \"hers\", \"herself\", \"him\", \"himself\", \"his\", \"how\", \"however\", \"hundred\", \"ie\", \"if\", \"in\", \"inc\", \"indeed\", \"interest\", \"into\", \"is\", \"it\", \"its\", \"itself\", \"keep\", \"last\", \"latter\", \"latterly\", \"least\", \"less\", \"ltd\", \"made\", \"many\", \"may\", \"me\", \"meanwhile\", \"might\", \"mill\", \"mine\", \"more\", \"moreover\", \"most\", \"mostly\", \"move\", \"much\", \"must\", \"my\", \"myself\", \"name\", \"namely\", \"neither\", \"never\", \"nevertheless\", \"next\", \"nine\", \"no\", \"nobody\", \"none\", \"noone\", \"nor\", \"not\", \"nothing\", \"now\", \"nowhere\", \"of\", \"off\", \"often\", \"on\", \"once\", \"one\", \"only\", \"onto\", \"or\", \"other\", \"others\", \"otherwise\", \"our\", \"ours\", \"ourselves\", \"out\", \"over\", \"own\",\"part\", \"per\", \"perhaps\", \"please\", \"put\", \"rather\", \"re\", \"same\", \"see\", \"seem\", \"seemed\", \"seeming\", \"seems\", \"serious\", \"several\", \"she\", \"should\", \"show\", \"side\", \"since\", \"sincere\", \"six\", \"sixty\", \"so\", \"some\", \"somehow\", \"someone\", \"something\", \"sometime\", \"sometimes\", \"somewhere\", \"still\", \"such\", \"system\", \"take\", \"ten\", \"than\", \"that\", \"the\", \"their\", \"them\", \"themselves\", \"then\", \"thence\", \"there\", \"thereafter\", \"thereby\", \"therefore\", \"therein\", \"thereupon\", \"these\", \"they\", \"thickv\", \"thin\", \"third\", \"this\", \"those\", \"though\", \"three\", \"through\", \"throughout\", \"thru\", \"thus\", \"to\", \"together\", \"too\", \"top\", \"toward\", \"towards\", \"twelve\", \"twenty\", \"two\", \"un\", \"under\", \"until\", \"up\", \"upon\", \"us\", \"very\", \"via\", \"was\", \"we\", \"well\", \"were\", \"what\", \"whatever\", \"when\", \"whence\", \"whenever\", \"where\", \"whereafter\", \"whereas\", \"whereby\", \"wherein\", \"whereupon\", \"wherever\", \"whether\", \"which\", \"while\", \"whither\", \"who\", \"whoever\", \"whole\", \"whom\", \"whose\", \"why\", \"will\", \"with\", \"within\", \"without\", \"would\", \"yet\", \"you\", \"your\", \"yours\", \"yourself\", \"yourselves\", \"the\"]\n",
    "\n",
    "def text_cleaner(text): \n",
    "    text=remove_link(text.lower())\n",
    "    long_words=[]\n",
    "    for i in text.split():\n",
    "        if i not in stopwords:                  \n",
    "            long_words.append(i)\n",
    "    return long_words\n",
    "\n",
    "def remove_link(text):\n",
    "    regex = r'https?://[^\\s<>)\"‘’]+'\n",
    "    match = re.sub(regex,' ', text)\n",
    "    regex = r'https?:|urls?|[/\\:,-.\"\\'?!;…]+'\n",
    "    tweet = re.sub(regex,' ', match)\n",
    "    tweet = re.sub(\"[^a-zA-Z_]\", \" \", tweet)\n",
    "    tweet = re.sub(\"[ ]+\", \" \", tweet) \n",
    "    return tweet\n"
   ]
  },
  {
   "cell_type": "markdown",
   "metadata": {
    "colab_type": "text",
    "id": "6iDUew_bqEYT"
   },
   "source": [
    "**Cross validation**"
   ]
  },
  {
   "cell_type": "code",
   "execution_count": null,
   "metadata": {
    "colab": {
     "base_uri": "https://localhost:8080/",
     "height": 51
    },
    "colab_type": "code",
    "id": "HaoTjGtwfxBb",
    "outputId": "e6166005-52f3-4027-a768-c178d374d0ce"
   },
   "outputs": [
    {
     "name": "stdout",
     "output_type": "stream",
     "text": [
      "Training set size :  914\n",
      "Test set size :  229\n"
     ]
    }
   ],
   "source": [
    "#divide the data into train set and test set\n",
    "import random\n",
    "random.seed(1)\n",
    "random.shuffle(lines) #shuffle the dataset before dividing it into train and test set\n",
    "split_size = int(0.8*len(lines)) #use 80% of total data as train set and 20% as test set\n",
    "train_lines = lines[:split_size]\n",
    "test_lines = lines[split_size:]\n",
    "\n",
    "print (\"Training set size : \", len(train_lines))\n",
    "print (\"Test set size : \", len(test_lines))\n"
   ]
  },
  {
   "cell_type": "code",
   "execution_count": null,
   "metadata": {
    "colab": {
     "base_uri": "https://localhost:8080/",
     "height": 51
    },
    "colab_type": "code",
    "id": "DhD9MhKYf2Wz",
    "outputId": "f5fdb3e1-eae7-4d43-e912-15d48ae339d8"
   },
   "outputs": [
    {
     "name": "stdout",
     "output_type": "stream",
     "text": [
      "Vocabulary size :  4012\n",
      "Max sentence length :  19\n"
     ]
    }
   ],
   "source": [
    "#convert string tokens to integers\n",
    "#create a vocabulary set and assign a unique id to each word in the vocabulary\n",
    "\n",
    "#load all unique vocabulary\n",
    "vocab = []\n",
    "maxlen = []\n",
    "for l in train_lines:\n",
    "    s = l.strip().split('\\t')\n",
    "    words = text_cleaner(s[0].strip())\n",
    "    vocab += words\n",
    "    maxlen.append(len(words))\n",
    "vocab = list(set(vocab))\n",
    "print (\"Vocabulary size : \", len(vocab))\n",
    "\n",
    "#assign unique id to each vocabulary\n",
    "word2id = dict()\n",
    "for i,v in enumerate(vocab,1):\n",
    "    word2id[v] = i\n",
    "word2id['PAD'] = 0 #special token to take care of unseen words in the test set\n",
    "maxlen = max(maxlen)\n",
    "print (\"Max sentence length : \",maxlen)\n"
   ]
  },
  {
   "cell_type": "code",
   "execution_count": null,
   "metadata": {
    "colab": {
     "base_uri": "https://localhost:8080/",
     "height": 85
    },
    "colab_type": "code",
    "id": "SEdRzE28gPtC",
    "outputId": "9437ef6e-f592-4c2c-a688-60849334ddfd"
   },
   "outputs": [
    {
     "name": "stdout",
     "output_type": "stream",
     "text": [
      "914\n",
      "914\n",
      "[2639, 3937, 2155, 821, 1900, 495, 495, 3442, 445, 0, 0, 0, 0, 0, 0, 0, 0, 0, 0]\n",
      "[1, 0]\n"
     ]
    }
   ],
   "source": [
    "#Prepare train and test set\n",
    "#Convert strings to integers\n",
    "#prepare train and test set\n",
    "\n",
    "#prepare train set\n",
    "import numpy as np\n",
    "train_X = []\n",
    "train_Y = []\n",
    "for l in train_lines:\n",
    "    s = l.strip().split('\\t')\n",
    "    text = text_cleaner(s[0])\n",
    "    label = int(s[1].strip())\n",
    "    temp_x = [word2id[x] for x in text]\n",
    "    temp_x += [0]* (maxlen-len(temp_x)) #convert all input to equal size to enable training in batches\n",
    "    temp_y = [0]*2\n",
    "    temp_y[label] = 1\n",
    "    train_X.append(temp_x)\n",
    "    train_Y.append(temp_y)\n",
    "print (len(train_X))\n",
    "print (len(train_Y))\n",
    "print (train_X[0])\n",
    "print (train_Y[0])\n",
    "train_X = np.array(train_X)\n",
    "train_Y = np.array(train_Y) "
   ]
  },
  {
   "cell_type": "code",
   "execution_count": null,
   "metadata": {
    "colab": {
     "base_uri": "https://localhost:8080/",
     "height": 85
    },
    "colab_type": "code",
    "id": "0AAqcptJgjCw",
    "outputId": "2411580f-8670-46a4-c33f-8c60b8863d2c"
   },
   "outputs": [
    {
     "name": "stdout",
     "output_type": "stream",
     "text": [
      "229\n",
      "229\n",
      "[2750, 2299, 2121, 2651, 0, 0, 1336, 3701, 3, 445, 0, 0, 0, 0, 0, 0, 0, 0, 0]\n",
      "[1, 0]\n"
     ]
    }
   ],
   "source": [
    "#prepare test set\n",
    "test_X = []\n",
    "test_Y = []\n",
    "\n",
    "for l in test_lines:\n",
    "    s = l.strip().split('\\t')\n",
    "    text = text_cleaner(s[0].strip())\n",
    "    label = int(s[1].strip())\n",
    "    temp_x = [word2id[x] if x in word2id else 0 for x in text ][:maxlen]\n",
    "    temp_x += [0]* (maxlen-len(temp_x)) #convert all input to equal size to enable training in batches\n",
    "    temp_y = [0]*2\n",
    "    temp_y[label] = 1\n",
    "    test_X.append(temp_x)\n",
    "    test_Y.append(temp_y)\n",
    "print (len(test_X))\n",
    "print (len(test_Y))\n",
    "print (test_X[0])\n",
    "print (test_Y[0])\n",
    "test_X = np.array(test_X)\n",
    "test_Y = np.array(test_Y)"
   ]
  },
  {
   "cell_type": "code",
   "execution_count": null,
   "metadata": {
    "colab": {
     "base_uri": "https://localhost:8080/",
     "height": 714
    },
    "colab_type": "code",
    "id": "F7bfOXPEgtHv",
    "outputId": "5e0f3d12-39ec-4068-f641-d12ed356419b"
   },
   "outputs": [
    {
     "name": "stdout",
     "output_type": "stream",
     "text": [
      "Epoch 1/20\n",
      "15/15 [==============================] - 0s 1ms/step - loss: 1.0193 - accuracy: 0.4869\n",
      "Epoch 2/20\n",
      "15/15 [==============================] - 0s 1ms/step - loss: 0.7251 - accuracy: 0.6368\n",
      "Epoch 3/20\n",
      "15/15 [==============================] - 0s 1ms/step - loss: 0.6840 - accuracy: 0.6619\n",
      "Epoch 4/20\n",
      "15/15 [==============================] - 0s 1ms/step - loss: 0.6805 - accuracy: 0.6510\n",
      "Epoch 5/20\n",
      "15/15 [==============================] - 0s 1ms/step - loss: 0.6616 - accuracy: 0.6586\n",
      "Epoch 6/20\n",
      "15/15 [==============================] - 0s 1ms/step - loss: 0.6606 - accuracy: 0.6565\n",
      "Epoch 7/20\n",
      "15/15 [==============================] - 0s 2ms/step - loss: 0.6564 - accuracy: 0.6663\n",
      "Epoch 8/20\n",
      "15/15 [==============================] - 0s 1ms/step - loss: 0.6632 - accuracy: 0.6751\n",
      "Epoch 9/20\n",
      "15/15 [==============================] - 0s 1ms/step - loss: 0.6561 - accuracy: 0.6707\n",
      "Epoch 10/20\n",
      "15/15 [==============================] - 0s 1ms/step - loss: 0.6438 - accuracy: 0.6729\n",
      "Epoch 11/20\n",
      "15/15 [==============================] - 0s 1ms/step - loss: 0.6312 - accuracy: 0.6805\n",
      "Epoch 12/20\n",
      "15/15 [==============================] - 0s 1ms/step - loss: 0.6291 - accuracy: 0.6838\n",
      "Epoch 13/20\n",
      "15/15 [==============================] - 0s 1ms/step - loss: 0.6317 - accuracy: 0.6805\n",
      "Epoch 14/20\n",
      "15/15 [==============================] - 0s 1ms/step - loss: 0.6283 - accuracy: 0.6783\n",
      "Epoch 15/20\n",
      "15/15 [==============================] - 0s 1ms/step - loss: 0.6272 - accuracy: 0.6794\n",
      "Epoch 16/20\n",
      "15/15 [==============================] - 0s 1ms/step - loss: 0.6290 - accuracy: 0.6816\n",
      "Epoch 17/20\n",
      "15/15 [==============================] - 0s 1ms/step - loss: 0.6260 - accuracy: 0.6816\n",
      "Epoch 18/20\n",
      "15/15 [==============================] - 0s 1ms/step - loss: 0.6258 - accuracy: 0.6783\n",
      "Epoch 19/20\n",
      "15/15 [==============================] - 0s 1ms/step - loss: 0.6267 - accuracy: 0.6772\n",
      "Epoch 20/20\n",
      "15/15 [==============================] - 0s 1ms/step - loss: 0.6241 - accuracy: 0.6827\n"
     ]
    },
    {
     "data": {
      "text/plain": [
       "<tensorflow.python.keras.callbacks.History at 0x7f3831989da0>"
      ]
     },
     "execution_count": 7,
     "metadata": {
      "tags": []
     },
     "output_type": "execute_result"
    }
   ],
   "source": [
    "from keras.models import Sequential #Sequential is the class in Keras library that defines a model comprising of linear stack of models\n",
    "from keras.layers import Dense\n",
    "##initialize a sequential model\n",
    "model = Sequential() \n",
    "\n",
    "#Add layers to the sequential model\n",
    "#For the first hidden layer, input_dim must be mentioned which is the dimension of the input that the hidden layer receives from the input layer\n",
    "#The below line adds a hidden layer of 50 nodes that is connected to a input layer with maxlen nodes\n",
    "#tanh activation function applies nonlinear transformation to the output of the hidden layer\n",
    "model.add(Dense(50,input_dim=maxlen,activation='tanh')) \n",
    "\n",
    "#Add output layer with two nodes since our dataset comprises of two classes\n",
    "#Softmax converts the output to a probability distribution.\n",
    "model.add(Dense(2,activation='softmax'))\n",
    "\n",
    "#Compile the model by specifying the optimizers and loss functions\n",
    "model.compile(optimizer='sgd', loss='categorical_crossentropy',metrics=['accuracy'])\n",
    "\n",
    "#train the model\n",
    "model.fit(train_X, train_Y, epochs=20, batch_size=64)"
   ]
  },
  {
   "cell_type": "code",
   "execution_count": null,
   "metadata": {
    "colab": {
     "base_uri": "https://localhost:8080/",
     "height": 221
    },
    "colab_type": "code",
    "id": "CNuR6-a2g2F3",
    "outputId": "f353f37f-d43a-41a9-bb22-916318a3c3ff"
   },
   "outputs": [
    {
     "name": "stdout",
     "output_type": "stream",
     "text": [
      "Model: \"sequential\"\n",
      "_________________________________________________________________\n",
      "Layer (type)                 Output Shape              Param #   \n",
      "=================================================================\n",
      "dense (Dense)                (None, 50)                1000      \n",
      "_________________________________________________________________\n",
      "dense_1 (Dense)              (None, 2)                 102       \n",
      "=================================================================\n",
      "Total params: 1,102\n",
      "Trainable params: 1,102\n",
      "Non-trainable params: 0\n",
      "_________________________________________________________________\n"
     ]
    }
   ],
   "source": [
    "model.summary()"
   ]
  },
  {
   "cell_type": "code",
   "execution_count": null,
   "metadata": {
    "colab": {
     "base_uri": "https://localhost:8080/",
     "height": 34
    },
    "colab_type": "code",
    "id": "GqQyUkMhhJ-f",
    "outputId": "40a1891f-9f09-43a3-f8e8-6df5ea50956b"
   },
   "outputs": [
    {
     "name": "stdout",
     "output_type": "stream",
     "text": [
      "8/8 [==============================] - 0s 1ms/step - loss: 0.7059 - accuracy: 0.6332\n"
     ]
    }
   ],
   "source": [
    "res = model.evaluate(test_X,test_Y)"
   ]
  },
  {
   "cell_type": "code",
   "execution_count": null,
   "metadata": {
    "colab": {
     "base_uri": "https://localhost:8080/",
     "height": 34
    },
    "colab_type": "code",
    "id": "vJzjAGXEhMk5",
    "outputId": "dffe161a-799f-4dd5-cb9f-de5f52eef348"
   },
   "outputs": [
    {
     "data": {
      "text/plain": [
       "[0.7059223055839539, 0.6331877708435059]"
      ]
     },
     "execution_count": 10,
     "metadata": {
      "tags": []
     },
     "output_type": "execute_result"
    }
   ],
   "source": [
    "res"
   ]
  },
  {
   "cell_type": "code",
   "execution_count": null,
   "metadata": {
    "colab": {},
    "colab_type": "code",
    "id": "xTXnV_u1hUYh"
   },
   "outputs": [],
   "source": [
    "p = model.predict(test_X)"
   ]
  },
  {
   "cell_type": "code",
   "execution_count": null,
   "metadata": {
    "colab": {},
    "colab_type": "code",
    "id": "9kVzlQv8iBQL"
   },
   "outputs": [],
   "source": []
  },
  {
   "cell_type": "code",
   "execution_count": null,
   "metadata": {
    "colab": {
     "base_uri": "https://localhost:8080/",
     "height": 122
    },
    "colab_type": "code",
    "id": "udHI6-ikhcXN",
    "outputId": "5ca73a07-8c16-4654-bd17-f0b3f7667a1c"
   },
   "outputs": [
    {
     "name": "stdout",
     "output_type": "stream",
     "text": [
      "We blame cities for the majority of CO2 emissions without acknowledging their vulnerability to #CFCC15 #journey2015 #S2228 #SemST\t0 [0.5820220708847046, 0.417977899312973]\n",
      "Feminists who go for a gender studies degree should also blame the patriarchy for their mediocre grades in science. #SemST\t0 [0.7086774706840515, 0.2913225591182709]\n",
      "Just wrote my blog to help @CalAlimony pass a vital law that ends #alimony. Posting soon. #Divorce #leanin #SemST\t1 [0.8042789101600647, 0.1957210749387741]\n",
      "RT @JohnFugelsang: They should just make the GOP primaries a reality game show called \"Who Wants To Get Beat Up By A Girl? #SemST\t0 [0.46765077114105225, 0.532349169254303]\n",
      "It's incredibly easy to identify shitty females with a poor view on the world and what's important thanks to #SemST\t0 [0.8346851468086243, 0.16531486809253693]\n"
     ]
    }
   ],
   "source": [
    "for i,l in enumerate(test_lines[:5]):\n",
    "  print (l.strip(),p[i])"
   ]
  },
  {
   "cell_type": "code",
   "execution_count": null,
   "metadata": {
    "colab": {},
    "colab_type": "code",
    "id": "o2qVy1VliDz1"
   },
   "outputs": [],
   "source": [
    "#Generate word2vec embeddings using gensim\n",
    "import gensim, logging, os\n",
    "from gensim import corpora\n",
    "from collections import defaultdict\n",
    "from pprint import pprint\n",
    "import numpy as np\n",
    "\n",
    "import time\n",
    "t1 = time.time()\n",
    "texts = [[word for word in text_cleaner(line.strip().split('\\t')[0])]  for line in open('/content/drive/My Drive/Colab Notebooks/dataset/sentiment.txt')]\n",
    "dictionary = corpora.Dictionary(texts)\n",
    "corpus = [dictionary.doc2bow(text) for text in texts]\n",
    "model = gensim.models.Word2Vec(texts, min_count=0,sample=0.001, seed=1, workers=8, min_alpha=0.0001, sg=0, hs=0, negative=5,iter=100,size=50)\n"
   ]
  },
  {
   "cell_type": "code",
   "execution_count": null,
   "metadata": {
    "colab": {
     "base_uri": "https://localhost:8080/",
     "height": 88
    },
    "colab_type": "code",
    "id": "weWASEJ1iXHs",
    "outputId": "ddece87e-a296-421e-c4ac-b5d6b54f163a"
   },
   "outputs": [
    {
     "name": "stderr",
     "output_type": "stream",
     "text": [
      "/usr/local/lib/python3.6/dist-packages/ipykernel_launcher.py:8: DeprecationWarning: Call to deprecated `__getitem__` (Method will be removed in 4.0.0, use self.wv.__getitem__() instead).\n",
      "  \n"
     ]
    },
    {
     "name": "stdout",
     "output_type": "stream",
     "text": [
      "Total time taken  159.20494103431702\n"
     ]
    }
   ],
   "source": [
    "##word2vec model trained\n",
    "##Now dump the generated embeddings into text files\n",
    "f2=open('/content/drive/My Drive/Colab Notebooks/embeddings/words.txt','w')\n",
    "X = []\n",
    "for key, value in dictionary.token2id.items() :\n",
    "    #print (key, value)\n",
    "    f2.write(key+\"\\n\")\n",
    "    X.append(list(model[key]))\n",
    "f2.close()\n",
    "\n",
    "fp=open('/content/drive/My Drive/Colab Notebooks/embeddings/vectors.txt','w')\n",
    "for w in list(X):\n",
    "    x=list(w)\n",
    "    for wi in x:\n",
    "        fp.write(str(wi).replace('\\n','')+'\\t')\n",
    "    fp.write('\\n')\n",
    "fp.close()\n",
    "t2 = time.time()\n",
    "print (\"Total time taken \",t2-t1)"
   ]
  },
  {
   "cell_type": "code",
   "execution_count": null,
   "metadata": {
    "colab": {},
    "colab_type": "code",
    "id": "xTYsTi5fjF2p"
   },
   "outputs": [],
   "source": [
    "##train a network using the generated embeddings as features\n",
    "#first load the embeddings from the files into a matrix\n",
    "f = open('/content/drive/My Drive/Colab Notebooks/embeddings/words.txt')\n",
    "words = f.readlines()\n",
    "f.close()\n",
    "f = open('/content/drive/My Drive/Colab Notebooks/embeddings/vectors.txt')\n",
    "vectors = f.readlines()\n",
    "f.close()\n",
    "\n",
    "embeddings = dict()\n",
    "for i,w in enumerate(words):\n",
    "  embeddings[w.strip()] = np.array([float(x) for x in vectors[i].strip().split('\\t')])\n",
    "embedding_size = len(vectors[i].strip().split('\\t'))\n"
   ]
  },
  {
   "cell_type": "code",
   "execution_count": null,
   "metadata": {
    "colab": {
     "base_uri": "https://localhost:8080/",
     "height": 221
    },
    "colab_type": "code",
    "id": "X4wRfkgUjU5Q",
    "outputId": "f91bcf69-6766-400f-8ff9-fa9fa4eedd2c"
   },
   "outputs": [
    {
     "name": "stdout",
     "output_type": "stream",
     "text": [
      "914\n",
      "914\n",
      "[ 0.34400658  0.27160275  0.01452614  0.24148613  0.65151931 -0.30304693\n",
      " -0.26461193  0.55967513  2.00598388  0.24282182 -0.9591095  -0.36426097\n",
      " -0.27262755 -0.50897189  0.37229868 -0.86615524 -0.90331611  0.07527125\n",
      " -1.27128243  1.16274885  0.32932287 -0.01681146  0.72154313 -0.16764784\n",
      " -0.19144638 -0.3907647   1.31546959  0.1781115   1.63848702  0.35916511\n",
      "  0.47530726  0.13169616  0.75663928 -0.94713477  0.33700043 -0.06840539\n",
      "  0.18772569  1.31664211 -0.86507743 -1.16744186  0.34270857  0.11727037\n",
      "  0.12892523  0.38072168 -0.98211067 -1.09526317  0.55164504 -0.95999779\n",
      "  0.21279183 -0.58756922]\n",
      "[1, 0]\n"
     ]
    }
   ],
   "source": [
    "#for each sentence in the training set, generate sentence embeddings by averaging word embeddings\n",
    "train_X = []\n",
    "train_Y = []\n",
    "for l in train_lines:\n",
    "    s = l.lower().strip().split('\\t')\n",
    "    text = text_cleaner(s[0].strip())\n",
    "    label = int(s[1].strip())\n",
    "    temp_x = np.array([0]*embedding_size)\n",
    "    #represent each sentence by a sentence embedding obtained by averaging word embeddings\n",
    "    for v in text:\n",
    "        if v in embeddings:\n",
    "            temp_x = np.add(temp_x,embeddings[v])\n",
    "        else:\n",
    "            temp_x = np.add(temp_x,np.array([0]*embedding_size))\n",
    "    temp_x = np.true_divide(temp_x,len(text))\n",
    "    \n",
    "    #represent the labels as one-hot vectors\n",
    "    temp_y = [0]*2\n",
    "    temp_y[label] = 1\n",
    "    \n",
    "    train_X.append(temp_x)\n",
    "    train_Y.append(temp_y)\n",
    "    \n",
    "print (len(train_X))\n",
    "print (len(train_Y))\n",
    "print (train_X[1])\n",
    "print (train_Y[1])\n",
    "train_X = np.array(train_X)\n",
    "train_Y = np.array(train_Y)\n"
   ]
  },
  {
   "cell_type": "code",
   "execution_count": null,
   "metadata": {
    "colab": {
     "base_uri": "https://localhost:8080/",
     "height": 289
    },
    "colab_type": "code",
    "id": "UFbHYRyElkOT",
    "outputId": "a438200c-1e5b-49a6-de67-45b51bea0c61"
   },
   "outputs": [
    {
     "name": "stdout",
     "output_type": "stream",
     "text": [
      "229\n",
      "229\n",
      "[ 1.43168587e-01  3.62731191e-01 -8.37483342e-02 -4.34456608e-01\n",
      " -2.62502466e-02  6.23550179e-02 -1.30325140e-04 -1.78436619e-01\n",
      "  8.72878291e-01  1.65309610e-02 -1.06327978e+00 -4.53096895e-01\n",
      "  1.00373781e-01 -2.79473894e-01  2.51277588e-01 -2.30466514e-01\n",
      " -7.11768351e-01 -3.55504187e-01 -1.14342608e-01  3.92006466e-01\n",
      "  1.69326919e-01  3.89009905e-01  4.11167598e-01 -1.55029858e-01\n",
      " -7.80328339e-02 -2.64823194e-02 -9.56052329e-02  9.48695151e-01\n",
      "  3.96399158e-01  1.87547960e-01  7.51962853e-03 -2.87542269e-02\n",
      "  2.93273877e-01 -2.21789745e-01  5.25936502e-02  2.74468541e-01\n",
      " -8.94138189e-02  5.75865273e-01  7.20069220e-03 -2.90708786e-01\n",
      "  2.23370578e-01 -2.26276361e-01 -2.15931485e-01  3.35309095e-01\n",
      " -3.74575353e-01 -3.80146742e-01 -6.00782197e-02 -7.29343560e-01\n",
      " -3.25310811e-01 -3.18310834e-01]\n",
      "[1, 0]\n"
     ]
    }
   ],
   "source": [
    "#Similarly represent the test set using word embeddings\n",
    "test_X = []\n",
    "test_Y = []\n",
    "for l in test_lines:\n",
    "    s = l.lower().strip().split('\\t')\n",
    "    text = text_cleaner(s[0].strip())\n",
    "    label = int(s[1].strip())\n",
    "    temp_x = np.array([0]*embedding_size)\n",
    "    #represent each sentence by a sentence embedding obtained by averaging word embeddings\n",
    "    for v in text:\n",
    "        if v in embeddings:\n",
    "            temp_x = np.add(temp_x,embeddings[v])\n",
    "        else:\n",
    "            temp_x = np.add(temp_x,np.array([0]*embedding_size))\n",
    "    temp_x = np.true_divide(temp_x,len(text))\n",
    "    \n",
    "    #represent the labels as one-hot vectors\n",
    "    temp_y = [0]*2\n",
    "    temp_y[label] = 1\n",
    "    \n",
    "    test_X.append(temp_x)\n",
    "    test_Y.append(temp_y)\n",
    "    \n",
    "print (len(test_X))\n",
    "print (len(test_Y))\n",
    "print (test_X[1])\n",
    "print (test_Y[1])\n",
    "test_X = np.array(test_X)\n",
    "test_Y = np.array(test_Y)\n"
   ]
  },
  {
   "cell_type": "code",
   "execution_count": null,
   "metadata": {
    "colab": {},
    "colab_type": "code",
    "id": "KG4CJGzMoO_P"
   },
   "outputs": [],
   "source": []
  },
  {
   "cell_type": "code",
   "execution_count": null,
   "metadata": {
    "colab": {
     "base_uri": "https://localhost:8080/",
     "height": 714
    },
    "colab_type": "code",
    "id": "5s31Uk28mGJh",
    "outputId": "f2c5e3eb-5950-4e92-9ad1-d58f46d00f6e"
   },
   "outputs": [
    {
     "name": "stdout",
     "output_type": "stream",
     "text": [
      "Epoch 1/20\n",
      "15/15 [==============================] - 0s 1ms/step - loss: 0.7615 - accuracy: 0.5055\n",
      "Epoch 2/20\n",
      "15/15 [==============================] - 0s 1ms/step - loss: 0.6695 - accuracy: 0.6433\n",
      "Epoch 3/20\n",
      "15/15 [==============================] - 0s 1ms/step - loss: 0.6406 - accuracy: 0.6827\n",
      "Epoch 4/20\n",
      "15/15 [==============================] - 0s 1ms/step - loss: 0.6234 - accuracy: 0.6915\n",
      "Epoch 5/20\n",
      "15/15 [==============================] - 0s 1ms/step - loss: 0.6099 - accuracy: 0.6958\n",
      "Epoch 6/20\n",
      "15/15 [==============================] - 0s 1ms/step - loss: 0.5992 - accuracy: 0.7002\n",
      "Epoch 7/20\n",
      "15/15 [==============================] - 0s 1ms/step - loss: 0.5906 - accuracy: 0.7013\n",
      "Epoch 8/20\n",
      "15/15 [==============================] - 0s 1ms/step - loss: 0.5833 - accuracy: 0.7090\n",
      "Epoch 9/20\n",
      "15/15 [==============================] - 0s 1ms/step - loss: 0.5778 - accuracy: 0.7112\n",
      "Epoch 10/20\n",
      "15/15 [==============================] - 0s 1ms/step - loss: 0.5730 - accuracy: 0.7155\n",
      "Epoch 11/20\n",
      "15/15 [==============================] - 0s 1ms/step - loss: 0.5682 - accuracy: 0.7243\n",
      "Epoch 12/20\n",
      "15/15 [==============================] - 0s 1ms/step - loss: 0.5645 - accuracy: 0.7265\n",
      "Epoch 13/20\n",
      "15/15 [==============================] - 0s 1ms/step - loss: 0.5605 - accuracy: 0.7298\n",
      "Epoch 14/20\n",
      "15/15 [==============================] - 0s 1ms/step - loss: 0.5574 - accuracy: 0.7309\n",
      "Epoch 15/20\n",
      "15/15 [==============================] - 0s 2ms/step - loss: 0.5550 - accuracy: 0.7330\n",
      "Epoch 16/20\n",
      "15/15 [==============================] - 0s 1ms/step - loss: 0.5525 - accuracy: 0.7330\n",
      "Epoch 17/20\n",
      "15/15 [==============================] - 0s 1ms/step - loss: 0.5503 - accuracy: 0.7363\n",
      "Epoch 18/20\n",
      "15/15 [==============================] - 0s 2ms/step - loss: 0.5485 - accuracy: 0.7363\n",
      "Epoch 19/20\n",
      "15/15 [==============================] - 0s 1ms/step - loss: 0.5467 - accuracy: 0.7451\n",
      "Epoch 20/20\n",
      "15/15 [==============================] - 0s 1ms/step - loss: 0.5450 - accuracy: 0.7429\n"
     ]
    },
    {
     "data": {
      "text/plain": [
       "<tensorflow.python.keras.callbacks.History at 0x7f381f3f95c0>"
      ]
     },
     "execution_count": 48,
     "metadata": {
      "tags": []
     },
     "output_type": "execute_result"
    }
   ],
   "source": [
    "#define a model and train the model\n",
    "model = Sequential() \n",
    "model.add(Dense(50,input_dim=embedding_size,activation='tanh')) \n",
    "model.add(Dense(2,activation='softmax'))\n",
    "model.compile(optimizer='sgd', loss='categorical_crossentropy',metrics=['accuracy'])\n",
    "model.fit(train_X, train_Y, epochs=20, batch_size=64)"
   ]
  },
  {
   "cell_type": "code",
   "execution_count": null,
   "metadata": {
    "colab": {
     "base_uri": "https://localhost:8080/",
     "height": 34
    },
    "colab_type": "code",
    "id": "_looteLfmJz8",
    "outputId": "f3840b01-0d36-41aa-85e8-b8cfe029dbaa"
   },
   "outputs": [
    {
     "name": "stdout",
     "output_type": "stream",
     "text": [
      "8/8 [==============================] - 0s 1ms/step - loss: 0.5632 - accuracy: 0.7162\n"
     ]
    }
   ],
   "source": [
    "res = model.evaluate(test_X,test_Y)"
   ]
  },
  {
   "cell_type": "code",
   "execution_count": null,
   "metadata": {
    "colab": {},
    "colab_type": "code",
    "id": "4ld2fV2gmf7J"
   },
   "outputs": [],
   "source": [
    "from sklearn.naive_bayes import MultinomialNB\n",
    "from sklearn.neighbors import NearestCentroid\n",
    "from sklearn.naive_bayes import GaussianNB\n",
    "from sklearn.tree import DecisionTreeClassifier\n",
    "from sklearn.neighbors import KNeighborsClassifier\n",
    "from sklearn import svm\n",
    "from sklearn.neural_network import MLPClassifier\n",
    "from sklearn.linear_model import LogisticRegression\n",
    "from sklearn.ensemble import RandomForestClassifier\n",
    "from sklearn.linear_model import LinearRegression"
   ]
  },
  {
   "cell_type": "code",
   "execution_count": null,
   "metadata": {
    "colab": {
     "base_uri": "https://localhost:8080/",
     "height": 221
    },
    "colab_type": "code",
    "id": "FKZKYbTdmhkn",
    "outputId": "d6921cee-1180-4fe4-cf24-93206262043e"
   },
   "outputs": [
    {
     "name": "stdout",
     "output_type": "stream",
     "text": [
      "914\n",
      "914\n",
      "[ 0.34400658  0.27160275  0.01452614  0.24148613  0.65151931 -0.30304693\n",
      " -0.26461193  0.55967513  2.00598388  0.24282182 -0.9591095  -0.36426097\n",
      " -0.27262755 -0.50897189  0.37229868 -0.86615524 -0.90331611  0.07527125\n",
      " -1.27128243  1.16274885  0.32932287 -0.01681146  0.72154313 -0.16764784\n",
      " -0.19144638 -0.3907647   1.31546959  0.1781115   1.63848702  0.35916511\n",
      "  0.47530726  0.13169616  0.75663928 -0.94713477  0.33700043 -0.06840539\n",
      "  0.18772569  1.31664211 -0.86507743 -1.16744186  0.34270857  0.11727037\n",
      "  0.12892523  0.38072168 -0.98211067 -1.09526317  0.55164504 -0.95999779\n",
      "  0.21279183 -0.58756922]\n",
      "0\n"
     ]
    }
   ],
   "source": [
    "#for each sentence in the training set, generate sentence embeddings by averaging word embeddings\n",
    "train_X = []\n",
    "train_Y = []\n",
    "for l in train_lines:\n",
    "    s = l.lower().strip().split('\\t')\n",
    "    text = text_cleaner(s[0].strip())\n",
    "    label = int(s[1].strip())\n",
    "    temp_x = np.array([0]*embedding_size)\n",
    "    #represent each sentence by a sentence embedding obtained by averaging word embeddings\n",
    "    for v in text:\n",
    "        if v in embeddings:\n",
    "            temp_x = np.add(temp_x,embeddings[v])\n",
    "        else:\n",
    "            temp_x = np.add(temp_x,np.array([0]*embedding_size))\n",
    "    temp_x = np.true_divide(temp_x,len(text))\n",
    "    \n",
    "    #represent the labels as one-hot vectors\n",
    "    train_X.append(temp_x)\n",
    "    train_Y.append(label)\n",
    "    \n",
    "print (len(train_X))\n",
    "print (len(train_Y))\n",
    "print (train_X[1])\n",
    "print (train_Y[1])\n",
    "train_X = np.array(train_X)\n",
    "train_Y = np.array(train_Y)"
   ]
  },
  {
   "cell_type": "code",
   "execution_count": null,
   "metadata": {
    "colab": {
     "base_uri": "https://localhost:8080/",
     "height": 289
    },
    "colab_type": "code",
    "id": "SLeCFreJnKSj",
    "outputId": "a379a931-f465-4f06-9752-fe44f9410092"
   },
   "outputs": [
    {
     "name": "stdout",
     "output_type": "stream",
     "text": [
      "229\n",
      "229\n",
      "[ 1.43168587e-01  3.62731191e-01 -8.37483342e-02 -4.34456608e-01\n",
      " -2.62502466e-02  6.23550179e-02 -1.30325140e-04 -1.78436619e-01\n",
      "  8.72878291e-01  1.65309610e-02 -1.06327978e+00 -4.53096895e-01\n",
      "  1.00373781e-01 -2.79473894e-01  2.51277588e-01 -2.30466514e-01\n",
      " -7.11768351e-01 -3.55504187e-01 -1.14342608e-01  3.92006466e-01\n",
      "  1.69326919e-01  3.89009905e-01  4.11167598e-01 -1.55029858e-01\n",
      " -7.80328339e-02 -2.64823194e-02 -9.56052329e-02  9.48695151e-01\n",
      "  3.96399158e-01  1.87547960e-01  7.51962853e-03 -2.87542269e-02\n",
      "  2.93273877e-01 -2.21789745e-01  5.25936502e-02  2.74468541e-01\n",
      " -8.94138189e-02  5.75865273e-01  7.20069220e-03 -2.90708786e-01\n",
      "  2.23370578e-01 -2.26276361e-01 -2.15931485e-01  3.35309095e-01\n",
      " -3.74575353e-01 -3.80146742e-01 -6.00782197e-02 -7.29343560e-01\n",
      " -3.25310811e-01 -3.18310834e-01]\n",
      "0\n"
     ]
    }
   ],
   "source": [
    "#Similarly represent the test set using word embeddings\n",
    "test_X = []\n",
    "test_Y = []\n",
    "for l in test_lines:\n",
    "    s = l.lower().strip().split('\\t')\n",
    "    text = text_cleaner(s[0].strip())\n",
    "    label = int(s[1].strip())\n",
    "    temp_x = np.array([0]*embedding_size)\n",
    "    #represent each sentence by a sentence embedding obtained by averaging word embeddings\n",
    "    for v in text:\n",
    "        if v in embeddings:\n",
    "            temp_x = np.add(temp_x,embeddings[v])\n",
    "        else:\n",
    "            temp_x = np.add(temp_x,np.array([0]*embedding_size))\n",
    "    temp_x = np.true_divide(temp_x,len(text))\n",
    "    \n",
    "    #represent the labels as one-hot vectors\n",
    "    \n",
    "    \n",
    "    test_X.append(temp_x)\n",
    "    test_Y.append(label)\n",
    "    \n",
    "print (len(test_X))\n",
    "print (len(test_Y))\n",
    "print (test_X[1])\n",
    "print (test_Y[1])\n",
    "test_X = np.array(test_X)\n",
    "test_Y = np.array(test_Y)"
   ]
  },
  {
   "cell_type": "code",
   "execution_count": null,
   "metadata": {
    "colab": {},
    "colab_type": "code",
    "id": "3qUf4Dp6nk9S"
   },
   "outputs": [],
   "source": [
    "gnb= GaussianNB()\n",
    "model = gnb.fit(train_X,train_Y)"
   ]
  },
  {
   "cell_type": "code",
   "execution_count": null,
   "metadata": {
    "colab": {},
    "colab_type": "code",
    "id": "jZ0uoguXn1ys"
   },
   "outputs": [],
   "source": [
    "y = model.predict(test_X)"
   ]
  },
  {
   "cell_type": "code",
   "execution_count": null,
   "metadata": {
    "colab": {},
    "colab_type": "code",
    "id": "f_KB_8MKn8pO"
   },
   "outputs": [],
   "source": [
    "from sklearn.metrics import accuracy_score, precision_score, recall_score, f1_score, roc_auc_score"
   ]
  },
  {
   "cell_type": "code",
   "execution_count": null,
   "metadata": {
    "colab": {
     "base_uri": "https://localhost:8080/",
     "height": 34
    },
    "colab_type": "code",
    "id": "jqG0l8lqoBXs",
    "outputId": "77cc9fb8-cf36-4cc4-c0f4-a75776f2450d"
   },
   "outputs": [
    {
     "name": "stdout",
     "output_type": "stream",
     "text": [
      "Accuracy  0.7205240174672489\n"
     ]
    }
   ],
   "source": [
    "print(\"Accuracy \",accuracy_score(test_Y, y, normalize = True))"
   ]
  },
  {
   "cell_type": "code",
   "execution_count": null,
   "metadata": {
    "colab": {},
    "colab_type": "code",
    "id": "JvMhWVWNoQfn"
   },
   "outputs": [],
   "source": [
    "svml=svm.LinearSVC()"
   ]
  },
  {
   "cell_type": "code",
   "execution_count": null,
   "metadata": {
    "colab": {
     "base_uri": "https://localhost:8080/",
     "height": 71
    },
    "colab_type": "code",
    "id": "y5LNbTFuohnm",
    "outputId": "d2918f4b-92db-4095-aeae-f8567c1f6a20"
   },
   "outputs": [
    {
     "name": "stderr",
     "output_type": "stream",
     "text": [
      "/usr/local/lib/python3.6/dist-packages/sklearn/svm/_base.py:947: ConvergenceWarning: Liblinear failed to converge, increase the number of iterations.\n",
      "  \"the number of iterations.\", ConvergenceWarning)\n"
     ]
    }
   ],
   "source": [
    "model = svml.fit(train_X,train_Y)"
   ]
  },
  {
   "cell_type": "code",
   "execution_count": null,
   "metadata": {
    "colab": {},
    "colab_type": "code",
    "id": "x1OfQ8jjonYK"
   },
   "outputs": [],
   "source": [
    "y = model.predict(test_X)"
   ]
  },
  {
   "cell_type": "code",
   "execution_count": null,
   "metadata": {
    "colab": {
     "base_uri": "https://localhost:8080/",
     "height": 34
    },
    "colab_type": "code",
    "id": "VzMI1ti-oveP",
    "outputId": "6950f58f-5dcd-4667-ba01-b323b2d25621"
   },
   "outputs": [
    {
     "name": "stdout",
     "output_type": "stream",
     "text": [
      "Accuracy  0.7379912663755459\n"
     ]
    }
   ],
   "source": [
    "print(\"Accuracy \",accuracy_score(test_Y, y, normalize = True))"
   ]
  }
 ],
 "metadata": {
  "colab": {
   "name": "LabDemo1.ipynb",
   "provenance": []
  },
  "kernelspec": {
   "display_name": "Python 3",
   "language": "python",
   "name": "python3"
  },
  "language_info": {
   "codemirror_mode": {
    "name": "ipython",
    "version": 3
   },
   "file_extension": ".py",
   "mimetype": "text/x-python",
   "name": "python",
   "nbconvert_exporter": "python",
   "pygments_lexer": "ipython3",
   "version": "3.7.4"
  }
 },
 "nbformat": 4,
 "nbformat_minor": 1
}
